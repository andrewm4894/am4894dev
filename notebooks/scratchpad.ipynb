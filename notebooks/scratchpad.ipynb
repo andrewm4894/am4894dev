{
 "cells": [
  {
   "cell_type": "code",
   "execution_count": 1,
   "metadata": {
    "pycharm": {
     "is_executing": false
    }
   },
   "outputs": [],
   "source": [
    "from am4894dev.netdata.api import get, get_from_info\n",
    "import pprint as pp"
   ]
  },
  {
   "cell_type": "code",
   "execution_count": 2,
   "metadata": {
    "pycharm": {
     "is_executing": false
    }
   },
   "outputs": [
    {
     "name": "stdout",
     "text": [
      "london3.my-netdata.io\n"
     ],
     "output_type": "stream"
    }
   ],
   "source": [
    "info = get('info')\n",
    "\n",
    "print(info['mirrored_hosts'][0])"
   ]
  },
  {
   "cell_type": "code",
   "execution_count": 3,
   "metadata": {
    "pycharm": {
     "is_executing": false,
     "name": "#%%\n"
    }
   },
   "outputs": [
    {
     "name": "stdout",
     "text": [
      "{'alarms': {'critical': 0, 'normal': 91, 'warning': 0},\n 'architecture': 'x86_64',\n 'collectors': [{'module': 'dockerhub', 'plugin': 'python.d.plugin'},\n                {'module': '', 'plugin': 'charts.d.plugin'},\n                {'module': '', 'plugin': 'apps.plugin'},\n                {'module': '/proc/diskstats', 'plugin': 'proc.plugin'},\n                {'module': 'postfix', 'plugin': 'python.d.plugin'},\n                {'module': '/proc/softirqs', 'plugin': 'proc.plugin'},\n                {'module': '/proc/uptime', 'plugin': 'proc.plugin'},\n                {'module': 'mysql', 'plugin': 'python.d.plugin'},\n                {'module': 'systemd', 'plugin': 'cgroups.plugin'},\n                {'module': '/proc/meminfo', 'plugin': 'proc.plugin'},\n                {'module': '', 'plugin': 'tc.plugin'},\n                {'module': '', 'plugin': 'idlejitter.plugin'},\n                {'module': '/proc/net/dev', 'plugin': 'proc.plugin'},\n                {'module': '/proc/net/stat/nf_conntrack',\n                 'plugin': 'proc.plugin'},\n                {'module': '/proc/loadavg', 'plugin': 'proc.plugin'},\n                {'module': 'ipc', 'plugin': 'proc.plugin'},\n                {'module': '/proc/net/sockstat', 'plugin': 'proc.plugin'},\n                {'module': 'stats', 'plugin': 'statsd.plugin'},\n                {'module': 'stats', 'plugin': 'cgroups.plugin'},\n                {'module': 'web_log', 'plugin': 'python.d.plugin'},\n                {'module': '/proc/interrupts', 'plugin': 'proc.plugin'},\n                {'module': '/proc/net/snmp', 'plugin': 'proc.plugin'},\n                {'module': 'ntpd', 'plugin': 'python.d.plugin'},\n                {'module': '/sys/kernel/mm/ksm', 'plugin': 'proc.plugin'},\n                {'module': '/proc/stat', 'plugin': 'proc.plugin'},\n                {'module': 'stats', 'plugin': 'netdata'},\n                {'module': '', 'plugin': 'diskspace.plugin'},\n                {'module': 'stats', 'plugin': 'web'},\n                {'module': '/proc/net/netstat', 'plugin': 'proc.plugin'},\n                {'module': '/proc/sys/kernel/random/entropy_avail',\n                 'plugin': 'proc.plugin'},\n                {'module': '/proc/vmstat', 'plugin': 'proc.plugin'},\n                {'module': '/proc/net/stat/synproxy', 'plugin': 'proc.plugin'},\n                {'module': '/proc/net/snmp6', 'plugin': 'proc.plugin'},\n                {'module': '', 'plugin': 'python.d.plugin'},\n                {'module': '/proc/net/softnet_stat', 'plugin': 'proc.plugin'},\n                {'module': '/proc/net/sockstat6', 'plugin': 'proc.plugin'},\n                {'module': 'stats', 'plugin': 'registry'},\n                {'module': 'nginx', 'plugin': 'python.d.plugin'}],\n 'container': 'none',\n 'container_detection': 'systemd-detect-virt',\n 'kernel_name': 'Linux',\n 'kernel_version': '4.9.0-8-amd64',\n 'mirrored_hosts': ['london3.my-netdata.io'],\n 'os_detection': '/etc/os-release',\n 'os_id': 'debian',\n 'os_id_like': 'unknown',\n 'os_name': 'Debian GNU/Linux',\n 'os_version': '9 (stretch)',\n 'os_version_id': '9',\n 'uid': '792bb46a-fb11-11e7-b935-e6a17492adc8',\n 'version': 'v1.16.0-15-gef94259a',\n 'virt_detection': 'systemd-detect-virt',\n 'virtualization': 'kvm'}\n"
     ],
     "output_type": "stream"
    }
   ],
   "source": [
    "pp.pprint(info)\n",
    "#get_from_info(info,'collectors')"
   ]
  }
 ],
 "metadata": {
  "file_extension": ".py",
  "kernelspec": {
   "display_name": "Python 3",
   "language": "python",
   "name": "python3"
  },
  "language_info": {
   "codemirror_mode": {
    "name": "ipython",
    "version": 3
   },
   "file_extension": ".py",
   "mimetype": "text/x-python",
   "name": "python",
   "nbconvert_exporter": "python",
   "pygments_lexer": "ipython3",
   "version": "3.6.8"
  },
  "mimetype": "text/x-python",
  "name": "python",
  "npconvert_exporter": "python",
  "pygments_lexer": "ipython3",
  "version": 3,
  "pycharm": {
   "stem_cell": {
    "cell_type": "raw",
    "source": [],
    "metadata": {
     "collapsed": false
    }
   }
  }
 },
 "nbformat": 4,
 "nbformat_minor": 4
}
