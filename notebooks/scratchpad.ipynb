{
 "cells": [
  {
   "cell_type": "code",
   "execution_count": 1,
   "metadata": {},
   "outputs": [],
   "source": [
    "from am4894dev.netdata.api import get"
   ]
  },
  {
   "cell_type": "code",
   "execution_count": 3,
   "metadata": {},
   "outputs": [],
   "source": [
    "info = get()"
   ]
  },
  {
   "cell_type": "code",
   "execution_count": 10,
   "metadata": {},
   "outputs": [
    {
     "data": {
      "text/plain": [
       "['python.d.plugin__dockerhub',\n",
       " 'charts.d.plugin__',\n",
       " 'apps.plugin__',\n",
       " 'proc.plugin__/proc/diskstats',\n",
       " 'python.d.plugin__postfix',\n",
       " 'proc.plugin__/proc/softirqs',\n",
       " 'proc.plugin__/proc/uptime',\n",
       " 'python.d.plugin__mysql',\n",
       " 'cgroups.plugin__systemd',\n",
       " 'proc.plugin__/proc/meminfo',\n",
       " 'tc.plugin__',\n",
       " 'idlejitter.plugin__',\n",
       " 'proc.plugin__/proc/net/dev',\n",
       " 'proc.plugin__/proc/net/stat/nf_conntrack',\n",
       " 'proc.plugin__/proc/loadavg',\n",
       " 'proc.plugin__ipc',\n",
       " 'proc.plugin__/proc/net/sockstat',\n",
       " 'statsd.plugin__stats',\n",
       " 'cgroups.plugin__stats',\n",
       " 'python.d.plugin__web_log',\n",
       " 'proc.plugin__/proc/interrupts',\n",
       " 'proc.plugin__/proc/net/snmp',\n",
       " 'python.d.plugin__ntpd',\n",
       " 'proc.plugin__/sys/kernel/mm/ksm',\n",
       " 'proc.plugin__/proc/stat',\n",
       " 'netdata__stats',\n",
       " 'diskspace.plugin__',\n",
       " 'web__stats',\n",
       " 'proc.plugin__/proc/net/netstat',\n",
       " 'proc.plugin__/proc/sys/kernel/random/entropy_avail',\n",
       " 'proc.plugin__/proc/vmstat',\n",
       " 'proc.plugin__/proc/net/stat/synproxy',\n",
       " 'proc.plugin__/proc/net/snmp6',\n",
       " 'python.d.plugin__',\n",
       " 'proc.plugin__/proc/net/softnet_stat',\n",
       " 'proc.plugin__/proc/net/sockstat6',\n",
       " 'registry__stats',\n",
       " 'python.d.plugin__nginx']"
      ]
     },
     "execution_count": 10,
     "metadata": {},
     "output_type": "execute_result"
    }
   ],
   "source": [
    "def get_from_info(info,to_get='collectors'):\n",
    "    res = ['__'.join((p.get('plugin'),p.get('module'))) for p in info.get('collectors')]\n",
    "    return res\n",
    "    \n",
    "get_from_info(info,'collectors')"
   ]
  },
  {
   "cell_type": "code",
   "execution_count": 7,
   "metadata": {},
   "outputs": [
    {
     "data": {
      "text/plain": [
       "['python.d.plugin__dockerhub',\n",
       " 'charts.d.plugin__',\n",
       " 'apps.plugin__',\n",
       " 'proc.plugin__/proc/diskstats',\n",
       " 'python.d.plugin__postfix',\n",
       " 'proc.plugin__/proc/softirqs',\n",
       " 'proc.plugin__/proc/uptime',\n",
       " 'python.d.plugin__mysql',\n",
       " 'cgroups.plugin__systemd',\n",
       " 'proc.plugin__/proc/meminfo',\n",
       " 'tc.plugin__',\n",
       " 'idlejitter.plugin__',\n",
       " 'proc.plugin__/proc/net/dev',\n",
       " 'proc.plugin__/proc/net/stat/nf_conntrack',\n",
       " 'proc.plugin__/proc/loadavg',\n",
       " 'proc.plugin__ipc',\n",
       " 'proc.plugin__/proc/net/sockstat',\n",
       " 'statsd.plugin__stats',\n",
       " 'cgroups.plugin__stats',\n",
       " 'python.d.plugin__web_log',\n",
       " 'proc.plugin__/proc/interrupts',\n",
       " 'proc.plugin__/proc/net/snmp',\n",
       " 'python.d.plugin__ntpd',\n",
       " 'proc.plugin__/sys/kernel/mm/ksm',\n",
       " 'proc.plugin__/proc/stat',\n",
       " 'netdata__stats',\n",
       " 'diskspace.plugin__',\n",
       " 'web__stats',\n",
       " 'proc.plugin__/proc/net/netstat',\n",
       " 'proc.plugin__/proc/sys/kernel/random/entropy_avail',\n",
       " 'proc.plugin__/proc/vmstat',\n",
       " 'proc.plugin__/proc/net/stat/synproxy',\n",
       " 'proc.plugin__/proc/net/snmp6',\n",
       " 'python.d.plugin__',\n",
       " 'proc.plugin__/proc/net/softnet_stat',\n",
       " 'proc.plugin__/proc/net/sockstat6',\n",
       " 'registry__stats',\n",
       " 'python.d.plugin__nginx']"
      ]
     },
     "execution_count": 7,
     "metadata": {},
     "output_type": "execute_result"
    }
   ],
   "source": []
  },
  {
   "cell_type": "code",
   "execution_count": null,
   "metadata": {},
   "outputs": [],
   "source": []
  }
 ],
 "metadata": {
  "file_extension": ".py",
  "kernelspec": {
   "display_name": "Python 3",
   "language": "python",
   "name": "python3"
  },
  "language_info": {
   "codemirror_mode": {
    "name": "ipython",
    "version": 3
   },
   "file_extension": ".py",
   "mimetype": "text/x-python",
   "name": "python",
   "nbconvert_exporter": "python",
   "pygments_lexer": "ipython3",
   "version": "3.6.8"
  },
  "mimetype": "text/x-python",
  "name": "python",
  "npconvert_exporter": "python",
  "pygments_lexer": "ipython3",
  "version": 3
 },
 "nbformat": 4,
 "nbformat_minor": 4
}
