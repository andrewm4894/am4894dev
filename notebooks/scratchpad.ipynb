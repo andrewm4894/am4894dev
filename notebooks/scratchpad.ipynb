{
 "cells": [
  {
   "cell_type": "code",
   "execution_count": 11,
   "metadata": {
    "pycharm": {
     "is_executing": false
    }
   },
   "outputs": [],
   "source": [
    "import pandas as pd\n",
    "from am4894dev.netdata.api import get"
   ]
  },
  {
   "cell_type": "code",
   "execution_count": 8,
   "metadata": {
    "pycharm": {
     "is_executing": false
    }
   },
   "outputs": [],
   "source": [
    "info = get()"
   ]
  },
  {
   "cell_type": "code",
   "execution_count": 9,
   "metadata": {
    "pycharm": {
     "is_executing": false,
     "name": "#%%\n"
    }
   },
   "outputs": [
    {
     "data": {
      "text/plain": "['python.d.plugin__dockerhub',\n 'charts.d.plugin__',\n 'apps.plugin__',\n 'proc.plugin__/proc/diskstats',\n 'python.d.plugin__postfix',\n 'proc.plugin__/proc/softirqs',\n 'proc.plugin__/proc/uptime',\n 'python.d.plugin__mysql',\n 'cgroups.plugin__systemd',\n 'proc.plugin__/proc/meminfo',\n 'tc.plugin__',\n 'idlejitter.plugin__',\n 'proc.plugin__/proc/net/dev',\n 'proc.plugin__/proc/net/stat/nf_conntrack',\n 'proc.plugin__/proc/loadavg',\n 'proc.plugin__ipc',\n 'proc.plugin__/proc/net/sockstat',\n 'statsd.plugin__stats',\n 'cgroups.plugin__stats',\n 'python.d.plugin__web_log',\n 'proc.plugin__/proc/interrupts',\n 'proc.plugin__/proc/net/snmp',\n 'python.d.plugin__ntpd',\n 'proc.plugin__/sys/kernel/mm/ksm',\n 'proc.plugin__/proc/stat',\n 'netdata__stats',\n 'diskspace.plugin__',\n 'web__stats',\n 'proc.plugin__/proc/net/netstat',\n 'proc.plugin__/proc/sys/kernel/random/entropy_avail',\n 'proc.plugin__/proc/vmstat',\n 'proc.plugin__/proc/net/stat/synproxy',\n 'proc.plugin__/proc/net/snmp6',\n 'python.d.plugin__',\n 'proc.plugin__/proc/net/softnet_stat',\n 'proc.plugin__/proc/net/sockstat6',\n 'registry__stats',\n 'python.d.plugin__nginx']"
     },
     "metadata": {},
     "output_type": "execute_result",
     "execution_count": 9
    }
   ],
   "source": [
    "def get_from_info(info,to_get='collectors'):\n",
    "    res = ['__'.join((p.get('plugin'),p.get('module'))) for p in info.get('collectors')]\n",
    "    return res\n",
    "    \n",
    "get_from_info(info,'collectors')"
   ]
  },
  {
   "cell_type": "code",
   "execution_count": 16,
   "outputs": [
    {
     "data": {
      "text/plain": "   0\n0  1\n1  2\n2  3",
      "text/html": "<div>\n<style scoped>\n    .dataframe tbody tr th:only-of-type {\n        vertical-align: middle;\n    }\n\n    .dataframe tbody tr th {\n        vertical-align: top;\n    }\n\n    .dataframe thead th {\n        text-align: right;\n    }\n</style>\n<table border=\"1\" class=\"dataframe\">\n  <thead>\n    <tr style=\"text-align: right;\">\n      <th></th>\n      <th>0</th>\n    </tr>\n  </thead>\n  <tbody>\n    <tr>\n      <th>0</th>\n      <td>1</td>\n    </tr>\n    <tr>\n      <th>1</th>\n      <td>2</td>\n    </tr>\n    <tr>\n      <th>2</th>\n      <td>3</td>\n    </tr>\n  </tbody>\n</table>\n</div>"
     },
     "metadata": {},
     "output_type": "display_data"
    }
   ],
   "source": [
    "df = pd.DataFrame([1,2,3])\n",
    "display(df.head())"
   ],
   "metadata": {
    "collapsed": false,
    "pycharm": {
     "name": "#%%\n",
     "is_executing": false
    }
   }
  }
 ],
 "metadata": {
  "file_extension": ".py",
  "kernelspec": {
   "display_name": "Python 3",
   "language": "python",
   "name": "python3"
  },
  "language_info": {
   "codemirror_mode": {
    "name": "ipython",
    "version": 3
   },
   "file_extension": ".py",
   "mimetype": "text/x-python",
   "name": "python",
   "nbconvert_exporter": "python",
   "pygments_lexer": "ipython3",
   "version": "3.6.8"
  },
  "mimetype": "text/x-python",
  "name": "python",
  "npconvert_exporter": "python",
  "pygments_lexer": "ipython3",
  "version": 3,
  "pycharm": {
   "stem_cell": {
    "cell_type": "raw",
    "source": [],
    "metadata": {
     "collapsed": false
    }
   }
  }
 },
 "nbformat": 4,
 "nbformat_minor": 4
}
