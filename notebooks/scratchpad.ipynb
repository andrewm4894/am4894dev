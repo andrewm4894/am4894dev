{
 "nbformat": 4,
 "nbformat_minor": 2,
 "metadata": {
  "language_info": {
   "name": "python",
   "codemirror_mode": {
    "name": "ipython",
    "version": 3
   }
  },
  "orig_nbformat": 2,
  "file_extension": ".py",
  "mimetype": "text/x-python",
  "name": "python",
  "npconvert_exporter": "python",
  "pygments_lexer": "ipython3",
  "version": 3
 },
 "cells": [
  {
   "cell_type": "code",
   "execution_count": 5,
   "metadata": {},
   "outputs": [],
   "source": [
    "from am4894dev.netdata.api import get"
   ]
  },
  {
   "cell_type": "code",
   "execution_count": 6,
   "metadata": {},
   "outputs": [
    {
     "name": "stdout",
     "output_type": "stream",
     "text": "{'version': 'v1.16.0-15-gef94259a', 'uid': '792bb46a-fb11-11e7-b935-e6a17492adc8', 'mirrored_hosts': ['london3.my-netdata.io'], 'alarms': {'normal': 91, 'warning': 0, 'critical': 0}, 'os_name': 'Debian GNU/Linux', 'os_id': 'debian', 'os_id_like': 'unknown', 'os_version': '9 (stretch)', 'os_version_id': '9', 'os_detection': '/etc/os-release', 'kernel_name': 'Linux', 'kernel_version': '4.9.0-8-amd64', 'architecture': 'x86_64', 'virtualization': 'kvm', 'virt_detection': 'systemd-detect-virt', 'container': 'none', 'container_detection': 'systemd-detect-virt', 'collectors': [{'plugin': 'python.d.plugin', 'module': 'dockerhub'}, {'plugin': 'charts.d.plugin', 'module': ''}, {'plugin': 'apps.plugin', 'module': ''}, {'plugin': 'proc.plugin', 'module': '/proc/diskstats'}, {'plugin': 'python.d.plugin', 'module': 'postfix'}, {'plugin': 'proc.plugin', 'module': '/proc/softirqs'}, {'plugin': 'proc.plugin', 'module': '/proc/uptime'}, {'plugin': 'python.d.plugin', 'module': 'mysql'}, {'plugin': 'cgroups.plugin', 'module': 'systemd'}, {'plugin': 'proc.plugin', 'module': '/proc/meminfo'}, {'plugin': 'tc.plugin', 'module': ''}, {'plugin': 'idlejitter.plugin', 'module': ''}, {'plugin': 'proc.plugin', 'module': '/proc/net/dev'}, {'plugin': 'proc.plugin', 'module': '/proc/net/stat/nf_conntrack'}, {'plugin': 'proc.plugin', 'module': '/proc/loadavg'}, {'plugin': 'proc.plugin', 'module': 'ipc'}, {'plugin': 'proc.plugin', 'module': '/proc/net/sockstat'}, {'plugin': 'statsd.plugin', 'module': 'stats'}, {'plugin': 'cgroups.plugin', 'module': 'stats'}, {'plugin': 'python.d.plugin', 'module': 'web_log'}, {'plugin': 'proc.plugin', 'module': '/proc/interrupts'}, {'plugin': 'proc.plugin', 'module': '/proc/net/snmp'}, {'plugin': 'python.d.plugin', 'module': 'ntpd'}, {'plugin': 'proc.plugin', 'module': '/sys/kernel/mm/ksm'}, {'plugin': 'proc.plugin', 'module': '/proc/stat'}, {'plugin': 'netdata', 'module': 'stats'}, {'plugin': 'diskspace.plugin', 'module': ''}, {'plugin': 'web', 'module': 'stats'}, {'plugin': 'proc.plugin', 'module': '/proc/net/netstat'}, {'plugin': 'proc.plugin', 'module': '/proc/sys/kernel/random/entropy_avail'}, {'plugin': 'proc.plugin', 'module': '/proc/vmstat'}, {'plugin': 'proc.plugin', 'module': '/proc/net/stat/synproxy'}, {'plugin': 'proc.plugin', 'module': '/proc/net/snmp6'}, {'plugin': 'python.d.plugin', 'module': ''}, {'plugin': 'proc.plugin', 'module': '/proc/net/softnet_stat'}, {'plugin': 'proc.plugin', 'module': '/proc/net/sockstat6'}, {'plugin': 'registry', 'module': 'stats'}, {'plugin': 'python.d.plugin', 'module': 'nginx'}]}\n"
    }
   ],
   "source": [
    "print(get())"
   ]
  }
 ]
}